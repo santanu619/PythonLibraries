{
 "metadata": {
  "language_info": {
   "codemirror_mode": {
    "name": "ipython",
    "version": 3
   },
   "file_extension": ".py",
   "mimetype": "text/x-python",
   "name": "python",
   "nbconvert_exporter": "python",
   "pygments_lexer": "ipython3",
   "version": "3.9.5"
  },
  "orig_nbformat": 4,
  "kernelspec": {
   "name": "python3",
   "display_name": "Python 3.9.5 64-bit"
  },
  "interpreter": {
   "hash": "80c905b8677c8219bf8c2ea742543ba102428b7001e03737a1e5fd4d93ef83aa"
  }
 },
 "nbformat": 4,
 "nbformat_minor": 2,
 "cells": [
  {
   "cell_type": "code",
   "execution_count": 4,
   "metadata": {},
   "outputs": [
    {
     "output_type": "stream",
     "name": "stdout",
     "text": [
      "[[ 0  1  3  0  2  4]\n [ 5  7  9  6  8 10]]\n"
     ]
    }
   ],
   "source": [
    "'''\n",
    "@Author: Santanu Mohapatra\n",
    "@Date: 16/06/2021\n",
    "@Last Modified by: Santanu Mohapatra\n",
    "@Last Modified Time: 13:00 PM\n",
    "@Title: Python program to concatenate two 2-dimensional arrays.\n",
    "'''\n",
    "\n",
    "import numpy as np \n",
    "\n",
    "myarray1 = np.array([[0,1,3],[5,7,9]])\n",
    "myarray2 = np.array([[0,2,4],[6,8,10]])\n",
    "concatarray = np.concatenate((myarray1,myarray2),1)\n",
    "print(concatarray)"
   ]
  }
 ]
}