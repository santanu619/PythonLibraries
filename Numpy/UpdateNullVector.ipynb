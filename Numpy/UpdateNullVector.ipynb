{
 "metadata": {
  "language_info": {
   "codemirror_mode": {
    "name": "ipython",
    "version": 3
   },
   "file_extension": ".py",
   "mimetype": "text/x-python",
   "name": "python",
   "nbconvert_exporter": "python",
   "pygments_lexer": "ipython3",
   "version": "3.9.5"
  },
  "orig_nbformat": 4,
  "kernelspec": {
   "name": "python3",
   "display_name": "Python 3.9.5 64-bit"
  },
  "interpreter": {
   "hash": "80c905b8677c8219bf8c2ea742543ba102428b7001e03737a1e5fd4d93ef83aa"
  }
 },
 "nbformat": 4,
 "nbformat_minor": 2,
 "cells": [
  {
   "cell_type": "code",
   "execution_count": 1,
   "metadata": {},
   "outputs": [
    {
     "output_type": "stream",
     "name": "stdout",
     "text": [
      "[0. 0. 0. 0. 0. 0. 0. 0. 0. 0.]\nAfter updating the array: [ 0.  0.  0.  0.  0.  0. 11.  0.  0.  0.]\n"
     ]
    }
   ],
   "source": [
    "'''\n",
    "@Author: Santanu Mohapatra\n",
    "@Date: 16/06/2021\n",
    "@Last Modified by: Santanu Mohapatra\n",
    "@Last Modified Time: 12:35 PM\n",
    "@Title: Python program to create a null vector of size 10 and update sixth value to 11.\n",
    "'''\n",
    "\n",
    "import numpy as np \n",
    "\n",
    "#Print Null vector\n",
    "null_array = np.zeros(10)\n",
    "print(null_array)\n",
    "\n",
    "#Update its 6th place with 11\n",
    "null_array[6] = 11\n",
    "print(\"After updating the array:\", null_array)"
   ]
  }
 ]
}