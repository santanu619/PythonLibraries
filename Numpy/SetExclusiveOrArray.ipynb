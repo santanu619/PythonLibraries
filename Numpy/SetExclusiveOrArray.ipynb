{
 "metadata": {
  "language_info": {
   "codemirror_mode": {
    "name": "ipython",
    "version": 3
   },
   "file_extension": ".py",
   "mimetype": "text/x-python",
   "name": "python",
   "nbconvert_exporter": "python",
   "pygments_lexer": "ipython3",
   "version": "3.9.5"
  },
  "orig_nbformat": 4,
  "kernelspec": {
   "name": "python3",
   "display_name": "Python 3.9.5 64-bit"
  },
  "interpreter": {
   "hash": "80c905b8677c8219bf8c2ea742543ba102428b7001e03737a1e5fd4d93ef83aa"
  }
 },
 "nbformat": 4,
 "nbformat_minor": 2,
 "cells": [
  {
   "cell_type": "code",
   "execution_count": 1,
   "metadata": {},
   "outputs": [
    {
     "output_type": "stream",
     "name": "stdout",
     "text": [
      "[ 0 20 30 50 60 70 80]\n"
     ]
    }
   ],
   "source": [
    "'''\n",
    "@Author: Santanu Mohapatra\n",
    "@Date: 16/06/2021\n",
    "@Last Modified by: Santanu Mohapatra\n",
    "@Last Modified Time: 16:30 PM\n",
    "@Title: Python program to print set exclusive-or of two arrays.\n",
    "'''\n",
    "\n",
    "import numpy as np \n",
    "\n",
    "myarray1 = np.array([0,10,20,40,60,80])\n",
    "myarray2 = np.array([10,30,40,50,70])\n",
    "\n",
    "#Set Exclusive-or\n",
    "print(np.setxor1d(myarray1, myarray2))"
   ]
  }
 ]
}