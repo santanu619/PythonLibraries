{
 "metadata": {
  "language_info": {
   "codemirror_mode": {
    "name": "ipython",
    "version": 3
   },
   "file_extension": ".py",
   "mimetype": "text/x-python",
   "name": "python",
   "nbconvert_exporter": "python",
   "pygments_lexer": "ipython3",
   "version": "3.9.5"
  },
  "orig_nbformat": 4,
  "kernelspec": {
   "name": "python3",
   "display_name": "Python 3.9.5 64-bit"
  },
  "interpreter": {
   "hash": "80c905b8677c8219bf8c2ea742543ba102428b7001e03737a1e5fd4d93ef83aa"
  }
 },
 "nbformat": 4,
 "nbformat_minor": 2,
 "cells": [
  {
   "cell_type": "code",
   "execution_count": 2,
   "metadata": {},
   "outputs": [
    {
     "output_type": "stream",
     "name": "stdout",
     "text": [
      "Array: [10 20 30 40 50]\nIn array.txt [10 20 30 40 50]\n"
     ]
    }
   ],
   "source": [
    "'''\n",
    "@Author: Santanu Mohapatra\n",
    "@Date: 16/06/2021\n",
    "@Last Modified by: Santanu Mohapatra\n",
    "@Last Modified Time: 11:05 AM\n",
    "@Title: Python program to create a NumPy array to a text file.\n",
    "'''\n",
    "\n",
    "import numpy as np \n",
    "\n",
    "myarray = np.array([10,20,30,40,50])\n",
    "print(\"Array:\", myarray)\n",
    "file = open(\"array.txt\", \"w+\")\n",
    "\n",
    "strings = str(myarray)\n",
    "file.write(strings)\n",
    "file.close()\n",
    "\n",
    "file = open(\"array.txt\", \"r\")\n",
    "strings = file.read()\n",
    "\n",
    "print(\"In array.txt\", strings)\n",
    "file.close()"
   ]
  },
  {
   "cell_type": "code",
   "execution_count": null,
   "metadata": {},
   "outputs": [],
   "source": []
  }
 ]
}