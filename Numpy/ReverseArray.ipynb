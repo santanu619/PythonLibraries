{
 "metadata": {
  "language_info": {
   "codemirror_mode": {
    "name": "ipython",
    "version": 3
   },
   "file_extension": ".py",
   "mimetype": "text/x-python",
   "name": "python",
   "nbconvert_exporter": "python",
   "pygments_lexer": "ipython3",
   "version": "3.9.5"
  },
  "orig_nbformat": 4,
  "kernelspec": {
   "name": "python3",
   "display_name": "Python 3.9.5 64-bit"
  },
  "interpreter": {
   "hash": "80c905b8677c8219bf8c2ea742543ba102428b7001e03737a1e5fd4d93ef83aa"
  }
 },
 "nbformat": 4,
 "nbformat_minor": 2,
 "cells": [
  {
   "cell_type": "code",
   "execution_count": 4,
   "metadata": {},
   "outputs": [
    {
     "output_type": "stream",
     "name": "stdout",
     "text": [
      "[12 13 14 15 16 17 18 19 20 21 22 23 24 25 26 27 28 29 30 31 32 33 34 35\n 36 37]\nReversed Array: [37 36 35 34 33 32 31 30 29 28 27 26 25 24 23 22 21 20 19 18 17 16 15 14\n 13 12]\n"
     ]
    }
   ],
   "source": [
    "'''\n",
    "@Author: Santanu Mohapatra\n",
    "@Date: 16/06/2021\n",
    "@Last Modified by: Santanu Mohapatra\n",
    "@Last Modified Time: 12:50 PM\n",
    "@Title: Python program to print reverse of an array.\n",
    "'''\n",
    "\n",
    "import numpy as np \n",
    "\n",
    "myarray = np.arange(12, 38)\n",
    "print(myarray)\n",
    "length = len(myarray)\n",
    "for index in range(int(length/2)):\n",
    "    temp = myarray[index]\n",
    "    myarray[index] = myarray[length - index - 1]\n",
    "    myarray[length - index - 1] = temp\n",
    "print(\"Reversed Array:\", myarray)"
   ]
  }
 ]
}