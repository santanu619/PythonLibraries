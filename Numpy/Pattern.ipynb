{
 "metadata": {
  "language_info": {
   "codemirror_mode": {
    "name": "ipython",
    "version": 3
   },
   "file_extension": ".py",
   "mimetype": "text/x-python",
   "name": "python",
   "nbconvert_exporter": "python",
   "pygments_lexer": "ipython3",
   "version": "3.9.5"
  },
  "orig_nbformat": 4,
  "kernelspec": {
   "name": "python3",
   "display_name": "Python 3.9.5 64-bit"
  },
  "interpreter": {
   "hash": "80c905b8677c8219bf8c2ea742543ba102428b7001e03737a1e5fd4d93ef83aa"
  }
 },
 "nbformat": 4,
 "nbformat_minor": 2,
 "cells": [
  {
   "cell_type": "code",
   "execution_count": 10,
   "metadata": {},
   "outputs": [
    {
     "output_type": "stream",
     "name": "stdout",
     "text": [
      "[[1. 1. 1. 1. 1.]\n [1. 1. 1. 1. 1.]\n [1. 1. 1. 1. 1.]\n [1. 1. 1. 1. 1.]\n [1. 1. 1. 1. 1.]]\n[[1. 1. 1. 1. 1.]\n [1. 0. 0. 0. 1.]\n [1. 0. 0. 0. 1.]\n [1. 0. 0. 0. 1.]\n [1. 1. 1. 1. 1.]]\n[[0. 0. 0. 0. 0.]\n [0. 0. 0. 0. 0.]\n [0. 0. 0. 0. 0.]\n [0. 0. 0. 0. 0.]\n [0. 0. 0. 0. 0.]]\n[[0. 0. 0. 0. 0.]\n [0. 1. 1. 1. 0.]\n [0. 1. 1. 1. 0.]\n [0. 1. 1. 1. 0.]\n [0. 0. 0. 0. 0.]]\n[[0 1 0 1 0 1 0 1]\n [1 0 1 0 1 0 1 0]\n [0 1 0 1 0 1 0 1]\n [1 0 1 0 1 0 1 0]\n [0 1 0 1 0 1 0 1]\n [1 0 1 0 1 0 1 0]\n [0 1 0 1 0 1 0 1]\n [1 0 1 0 1 0 1 0]]\n"
     ]
    }
   ],
   "source": [
    "'''\n",
    "@Author: Santanu Mohapatra\n",
    "@Date: 16/06/2021\n",
    "@Last Modified by: Santanu Mohapatra\n",
    "@Last Modified Time: 13:20 PM\n",
    "@Title: Python program to print different patterns of the array.\n",
    "'''\n",
    "\n",
    "import numpy as np \n",
    "\n",
    "'''\n",
    "Description: Declare 2D Array of 1s.\n",
    "'''\n",
    "myarray1 = np.ones(25).reshape(5, 5)\n",
    "print(myarray1)\n",
    "\n",
    "'''\n",
    "Description: Create a 2d array with 1 on the border and 0 inside.\n",
    "'''\n",
    "myarray1[1:-1, 1:-1] = 0\n",
    "print(myarray1)\n",
    "\n",
    "'''\n",
    "Description: Declare 2D Array of 0s.\n",
    "'''\n",
    "myarray2 = np.zeros(25).reshape(5, 5)\n",
    "print(myarray2)\n",
    "\n",
    "'''\n",
    "Description: Create a 2d array with 0 on the border and 1 inside.\n",
    "'''\n",
    "myarray2[1:-1, 1:-1] = 1\n",
    "print(myarray2)\n",
    "\n",
    "'''\n",
    "Description: Declare 2D Array of 0s.\n",
    "'''\n",
    "myarray3 = np.zeros((8,8),dtype=int)\n",
    "\n",
    "'''\n",
    "Description: Print the checkboard.\n",
    "'''\n",
    "myarray3[1::2,::2] = 1\n",
    "myarray3[::2,1::2] = 1\n",
    "print(myarray3)"
   ]
  }
 ]
}