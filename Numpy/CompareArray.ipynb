{
 "metadata": {
  "language_info": {
   "codemirror_mode": {
    "name": "ipython",
    "version": 3
   },
   "file_extension": ".py",
   "mimetype": "text/x-python",
   "name": "python",
   "nbconvert_exporter": "python",
   "pygments_lexer": "ipython3",
   "version": "3.9.5"
  },
  "orig_nbformat": 4,
  "kernelspec": {
   "name": "python3",
   "display_name": "Python 3.9.5 64-bit"
  },
  "interpreter": {
   "hash": "80c905b8677c8219bf8c2ea742543ba102428b7001e03737a1e5fd4d93ef83aa"
  }
 },
 "nbformat": 4,
 "nbformat_minor": 2,
 "cells": [
  {
   "cell_type": "code",
   "execution_count": 3,
   "metadata": {},
   "outputs": [
    {
     "output_type": "stream",
     "name": "stdout",
     "text": [
      "[False False]\n[False False]\n[ True  True]\n[ True  True]\n"
     ]
    }
   ],
   "source": [
    "'''\n",
    "@Author: Santanu Mohapatra\n",
    "@Date: 16/06/2021\n",
    "@Last Modified by: Santanu Mohapatra\n",
    "@Last Modified Time: 16:40 PM\n",
    "@Title: Python program to compare two arrays using NumPy.\n",
    "'''\n",
    "\n",
    "import numpy as np \n",
    "\n",
    "myarray1 = np.array([1,2])\n",
    "myarray2 = np.array([4,5])\n",
    "\n",
    "#Compare myarray1 and myarray2\n",
    "myarray3 = myarray1 > myarray2\n",
    "myarray4 = myarray1 >= myarray2\n",
    "myarray5 = myarray1 < myarray2\n",
    "myarray6 = myarray1 <= myarray2\n",
    "\n",
    "#Printing their boolean output as true or false\n",
    "print(myarray3)\n",
    "print(myarray4)\n",
    "print(myarray5)\n",
    "print(myarray6)"
   ]
  }
 ]
}