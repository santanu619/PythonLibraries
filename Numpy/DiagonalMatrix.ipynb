{
 "metadata": {
  "language_info": {
   "codemirror_mode": {
    "name": "ipython",
    "version": 3
   },
   "file_extension": ".py",
   "mimetype": "text/x-python",
   "name": "python",
   "nbconvert_exporter": "python",
   "pygments_lexer": "ipython3",
   "version": "3.9.5"
  },
  "orig_nbformat": 4,
  "kernelspec": {
   "name": "python3",
   "display_name": "Python 3.9.5 64-bit"
  },
  "interpreter": {
   "hash": "80c905b8677c8219bf8c2ea742543ba102428b7001e03737a1e5fd4d93ef83aa"
  }
 },
 "nbformat": 4,
 "nbformat_minor": 2,
 "cells": [
  {
   "cell_type": "code",
   "execution_count": 4,
   "metadata": {},
   "outputs": [
    {
     "output_type": "stream",
     "name": "stdout",
     "text": [
      "[[1. 0. 0.]\n [0. 1. 0.]\n [0. 0. 1.]]\n"
     ]
    }
   ],
   "source": [
    "'''\n",
    "@Author: Santanu Mohapatra\n",
    "@Date: 17/06/2021\n",
    "@Last Modified by: Santanu Mohapatra\n",
    "@Last Modified Time: 12:25 PM\n",
    "@Title: Python program to create a 3-D array with ones on a diagonal and zero elsewhere.\n",
    "'''\n",
    "\n",
    "import numpy as np \n",
    "\n",
    "mymatrix = np.eye(3)\n",
    "print(mymatrix)"
   ]
  }
 ]
}