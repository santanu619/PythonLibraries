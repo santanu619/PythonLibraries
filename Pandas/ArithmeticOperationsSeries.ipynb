{
 "metadata": {
  "language_info": {
   "codemirror_mode": {
    "name": "ipython",
    "version": 3
   },
   "file_extension": ".py",
   "mimetype": "text/x-python",
   "name": "python",
   "nbconvert_exporter": "python",
   "pygments_lexer": "ipython3",
   "version": "3.9.5"
  },
  "orig_nbformat": 4,
  "kernelspec": {
   "name": "python3",
   "display_name": "Python 3.9.5 64-bit"
  },
  "interpreter": {
   "hash": "80c905b8677c8219bf8c2ea742543ba102428b7001e03737a1e5fd4d93ef83aa"
  }
 },
 "nbformat": 4,
 "nbformat_minor": 2,
 "cells": [
  {
   "cell_type": "code",
   "execution_count": 2,
   "metadata": {},
   "outputs": [
    {
     "output_type": "stream",
     "name": "stdout",
     "text": [
      "0     3\n1     7\n2    11\n3    15\n4    19\ndtype: int64\n0    1\n1    1\n2    1\n3    1\n4    1\ndtype: int64\n0     2\n1    12\n2    30\n3    56\n4    90\ndtype: int64\n0    2.000000\n1    1.333333\n2    1.200000\n3    1.142857\n4    1.111111\ndtype: float64\n"
     ]
    }
   ],
   "source": [
    "'''\n",
    "@Author: Santanu Mohapatra\n",
    "@Date: 17/06/2021\n",
    "@Last Modified by: Santanu Mohapatra\n",
    "@Last Modified Time: 16:50 PM\n",
    "@Title: Python program to perfrom arithmetic operations on pandas series.\n",
    "'''\n",
    "\n",
    "import pandas as pd \n",
    "\n",
    "dataseries1 = pd.Series([2,4,6,8,10])\n",
    "dataseries2 = pd.Series([1,3,5,7,9])\n",
    "addition = dataseries1 + dataseries2\n",
    "substraction = dataseries1 - dataseries2\n",
    "multiplication = dataseries1 * dataseries2\n",
    "division = dataseries1 / dataseries2\n",
    "print(addition)\n",
    "print(substraction)\n",
    "print(multiplication)\n",
    "print(division)"
   ]
  }
 ]
}