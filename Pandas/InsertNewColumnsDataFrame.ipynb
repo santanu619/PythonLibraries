{
 "metadata": {
  "language_info": {
   "codemirror_mode": {
    "name": "ipython",
    "version": 3
   },
   "file_extension": ".py",
   "mimetype": "text/x-python",
   "name": "python",
   "nbconvert_exporter": "python",
   "pygments_lexer": "ipython3",
   "version": "3.9.5"
  },
  "orig_nbformat": 4,
  "kernelspec": {
   "name": "python3",
   "display_name": "Python 3.9.5 64-bit"
  },
  "interpreter": {
   "hash": "80c905b8677c8219bf8c2ea742543ba102428b7001e03737a1e5fd4d93ef83aa"
  }
 },
 "nbformat": 4,
 "nbformat_minor": 2,
 "cells": [
  {
   "cell_type": "code",
   "execution_count": 1,
   "metadata": {},
   "outputs": [
    {
     "output_type": "stream",
     "name": "stdout",
     "text": [
      "        name  score  attempts qualify     locality\na  Anastasia   12.5         1     yes    Australia\nb       Dima    9.0         3      no      Belgium\nc  Katherine   16.5         2     yes    Amsterdam\nd      James    NaN         3      no      England\ne      Emily    9.0         2      no      America\nf    Michael   20.0         3     yes    Australia\ng    Matthew   14.5         1     yes    Australia\nh      Laura    NaN         1      no        Spain\ni      Kevin    8.0         2      no      Belgium\nj      Jonas   19.0         1     yes  Switzerland\n"
     ]
    }
   ],
   "source": [
    "'''\n",
    "@Author: Santanu Mohapatra\n",
    "@Date: 17/06/2021\n",
    "@Last Modified by: Santanu Mohapatra\n",
    "@Last Modified Time: 22:00 PM\n",
    "@Title: Python program to insert a new column in existing DataFrame.\n",
    "'''\n",
    "\n",
    "import pandas as pd \n",
    "import numpy as np\n",
    "\n",
    "information = pd.DataFrame({'name': ['Anastasia', 'Dima', 'Katherine', 'James', 'Emily', 'Michael', 'Matthew', 'Laura', 'Kevin', 'Jonas'], 'score': [12.5, 9, 16.5, np.nan, 9, 20, 14.5, np.nan, 8, 19],\n",
    "'attempts': [1, 3, 2, 3, 2, 3, 1, 1, 2, 1], 'qualify': ['yes', 'no', 'yes', 'no', 'no', 'yes', 'yes', 'no', 'no', 'yes']}, index = ['a', 'b', 'c', 'd', 'e', 'f', 'g', 'h', 'i', 'j'])\n",
    "\n",
    "locality = ['Australia','Belgium','Amsterdam','England','America','Australia','Australia','Spain','Belgium','Switzerland']\n",
    "\n",
    "information['locality'] = locality\n",
    "\n",
    "print(information)"
   ]
  }
 ]
}