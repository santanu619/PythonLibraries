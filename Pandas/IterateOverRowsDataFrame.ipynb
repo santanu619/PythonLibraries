{
 "metadata": {
  "language_info": {
   "codemirror_mode": {
    "name": "ipython",
    "version": 3
   },
   "file_extension": ".py",
   "mimetype": "text/x-python",
   "name": "python",
   "nbconvert_exporter": "python",
   "pygments_lexer": "ipython3",
   "version": "3.9.5"
  },
  "orig_nbformat": 4,
  "kernelspec": {
   "name": "python3",
   "display_name": "Python 3.9.5 64-bit"
  },
  "interpreter": {
   "hash": "80c905b8677c8219bf8c2ea742543ba102428b7001e03737a1e5fd4d93ef83aa"
  }
 },
 "nbformat": 4,
 "nbformat_minor": 2,
 "cells": [
  {
   "cell_type": "code",
   "execution_count": 5,
   "metadata": {},
   "outputs": [
    {
     "output_type": "stream",
     "name": "stdout",
     "text": [
      "Santanu Bhubaneswar\nSasmita Bhubaneswar\nLaxmi Prasad Puri\nAnindita Bangalore\n"
     ]
    }
   ],
   "source": [
    "'''\n",
    "@Author: Santanu Mohapatra\n",
    "@Date: 17/06/2021\n",
    "@Last Modified by: Santanu Mohapatra\n",
    "@Last Modified Time: 22:20 PM\n",
    "@Title: Python program to iterate over rows in DataFrame.\n",
    "'''\n",
    "\n",
    "import pandas as pd \n",
    "import numpy as np\n",
    "\n",
    "information = pd.DataFrame([{'name':'Santanu','Place':'Bhubaneswar'},{'name':'Sasmita','Place':'Bhubaneswar'},{'name':'Laxmi Prasad','Place':'Puri'},{'name':'Anindita','Place':'Bangalore'}])\n",
    "\n",
    "for index, row in information.iterrows():\n",
    "    print(row['name'],row['Place'])"
   ]
  }
 ]
}