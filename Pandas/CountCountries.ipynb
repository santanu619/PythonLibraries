{
 "metadata": {
  "language_info": {
   "codemirror_mode": {
    "name": "ipython",
    "version": 3
   },
   "file_extension": ".py",
   "mimetype": "text/x-python",
   "name": "python",
   "nbconvert_exporter": "python",
   "pygments_lexer": "ipython3",
   "version": "3.9.5"
  },
  "orig_nbformat": 4,
  "kernelspec": {
   "name": "python3",
   "display_name": "Python 3.9.5 64-bit"
  },
  "interpreter": {
   "hash": "80c905b8677c8219bf8c2ea742543ba102428b7001e03737a1e5fd4d93ef83aa"
  }
 },
 "nbformat": 4,
 "nbformat_minor": 2,
 "cells": [
  {
   "cell_type": "code",
   "execution_count": 6,
   "metadata": {},
   "outputs": [
    {
     "output_type": "stream",
     "name": "stdout",
     "text": [
      "         name  age    countries\n0     Santanu   22        India\n1     Michael   34      America\n2       Virat   34        India\n3        Alex   31      England\n4      Aditya   24        India\n5      Steven   29    Australia\n6     Abraham   37       Africa\n7       Chris   41      England\n8  Williamson   29  New Zealand\n9        Dave   48      America\nIndia          3\nEngland        2\nAmerica        2\nAustralia      1\nAfrica         1\nNew Zealand    1\nName: countries, dtype: int64\n"
     ]
    }
   ],
   "source": [
    "'''\n",
    "@Author: Santanu Mohapatra\n",
    "@Date: 18/06/2021\n",
    "@Last Modified by: Santanu Mohapatra\n",
    "@Last Modified Time: 11:20 AM\n",
    "@Title: Python program to count countries.\n",
    "'''\n",
    "\n",
    "import pandas as pd \n",
    "\n",
    "data = pd.DataFrame({'name':['Santanu','Michael','Virat','Alex','Aditya','Steven','Abraham','Chris','Williamson','Dave'],'age':[22,34,34,31,24,29,37,41,29,48],'countries':['India','America','India','England','India','Australia','Africa','England','New Zealand','America']})\n",
    "\n",
    "print(data)\n",
    "\n",
    "print(data['countries'].value_counts())"
   ]
  }
 ]
}